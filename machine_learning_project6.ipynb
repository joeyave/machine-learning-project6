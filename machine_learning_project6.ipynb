{
  "nbformat": 4,
  "nbformat_minor": 0,
  "metadata": {
    "kernelspec": {
      "display_name": "Python 3",
      "language": "python",
      "name": "python3"
    },
    "language_info": {
      "codemirror_mode": {
        "name": "ipython",
        "version": 3
      },
      "file_extension": ".py",
      "mimetype": "text/x-python",
      "name": "python",
      "nbconvert_exporter": "python",
      "pygments_lexer": "ipython3",
      "version": "3.8.3"
    },
    "colab": {
      "name": "machine-learning-project6.ipynb",
      "provenance": [],
      "collapsed_sections": [],
      "include_colab_link": true
    }
  },
  "cells": [
    {
      "cell_type": "markdown",
      "metadata": {
        "id": "view-in-github",
        "colab_type": "text"
      },
      "source": [
        "<a href=\"https://colab.research.google.com/github/joeyave/machine-learning-project6/blob/main/machine_learning_project6.ipynb\" target=\"_parent\"><img src=\"https://colab.research.google.com/assets/colab-badge.svg\" alt=\"Open In Colab\"/></a>"
      ]
    },
    {
      "cell_type": "code",
      "metadata": {
        "colab": {
          "base_uri": "https://localhost:8080/"
        },
        "id": "8f6tjfSjT7qY",
        "outputId": "d46e6a70-70c8-4879-a09c-a7d01335fd02"
      },
      "source": [
        "from google.colab import drive\n",
        "drive.mount('/content/drive')"
      ],
      "execution_count": null,
      "outputs": [
        {
          "output_type": "stream",
          "text": [
            "Mounted at /content/drive\n"
          ],
          "name": "stdout"
        }
      ]
    },
    {
      "cell_type": "code",
      "metadata": {
        "colab": {
          "base_uri": "https://localhost:8080/",
          "height": 202
        },
        "id": "bOcrs4mhT2Qx",
        "outputId": "c7ffd665-fc5e-4160-f8f6-f315d0674646"
      },
      "source": [
        "import pandas as pd\n",
        "\n",
        "titanic_file_path = '/content/drive/My Drive/Colab Notebooks/train-project2.csv'\n",
        "titanic_data = pd.read_csv(titanic_file_path)\n",
        "titanic_data.head()"
      ],
      "execution_count": null,
      "outputs": [
        {
          "output_type": "execute_result",
          "data": {
            "text/html": [
              "<div>\n",
              "<style scoped>\n",
              "    .dataframe tbody tr th:only-of-type {\n",
              "        vertical-align: middle;\n",
              "    }\n",
              "\n",
              "    .dataframe tbody tr th {\n",
              "        vertical-align: top;\n",
              "    }\n",
              "\n",
              "    .dataframe thead th {\n",
              "        text-align: right;\n",
              "    }\n",
              "</style>\n",
              "<table border=\"1\" class=\"dataframe\">\n",
              "  <thead>\n",
              "    <tr style=\"text-align: right;\">\n",
              "      <th></th>\n",
              "      <th>Survived</th>\n",
              "      <th>Pclass</th>\n",
              "      <th>Age</th>\n",
              "      <th>SibSp</th>\n",
              "      <th>Parch</th>\n",
              "      <th>Fare</th>\n",
              "      <th>Sex_male</th>\n",
              "      <th>Embarked_Q</th>\n",
              "      <th>Embarked_S</th>\n",
              "    </tr>\n",
              "  </thead>\n",
              "  <tbody>\n",
              "    <tr>\n",
              "      <th>0</th>\n",
              "      <td>0</td>\n",
              "      <td>1.0</td>\n",
              "      <td>0.329064</td>\n",
              "      <td>0.333333</td>\n",
              "      <td>0.0</td>\n",
              "      <td>0.043975</td>\n",
              "      <td>1</td>\n",
              "      <td>0</td>\n",
              "      <td>1</td>\n",
              "    </tr>\n",
              "    <tr>\n",
              "      <th>1</th>\n",
              "      <td>1</td>\n",
              "      <td>0.0</td>\n",
              "      <td>0.573041</td>\n",
              "      <td>0.333333</td>\n",
              "      <td>0.0</td>\n",
              "      <td>0.432369</td>\n",
              "      <td>0</td>\n",
              "      <td>0</td>\n",
              "      <td>0</td>\n",
              "    </tr>\n",
              "    <tr>\n",
              "      <th>2</th>\n",
              "      <td>1</td>\n",
              "      <td>1.0</td>\n",
              "      <td>0.390058</td>\n",
              "      <td>0.000000</td>\n",
              "      <td>0.0</td>\n",
              "      <td>0.048069</td>\n",
              "      <td>0</td>\n",
              "      <td>0</td>\n",
              "      <td>1</td>\n",
              "    </tr>\n",
              "    <tr>\n",
              "      <th>3</th>\n",
              "      <td>1</td>\n",
              "      <td>0.0</td>\n",
              "      <td>0.527295</td>\n",
              "      <td>0.333333</td>\n",
              "      <td>0.0</td>\n",
              "      <td>0.322078</td>\n",
              "      <td>0</td>\n",
              "      <td>0</td>\n",
              "      <td>1</td>\n",
              "    </tr>\n",
              "    <tr>\n",
              "      <th>4</th>\n",
              "      <td>0</td>\n",
              "      <td>1.0</td>\n",
              "      <td>0.527295</td>\n",
              "      <td>0.000000</td>\n",
              "      <td>0.0</td>\n",
              "      <td>0.048827</td>\n",
              "      <td>1</td>\n",
              "      <td>0</td>\n",
              "      <td>1</td>\n",
              "    </tr>\n",
              "  </tbody>\n",
              "</table>\n",
              "</div>"
            ],
            "text/plain": [
              "   Survived  Pclass       Age  ...  Sex_male  Embarked_Q  Embarked_S\n",
              "0         0     1.0  0.329064  ...         1           0           1\n",
              "1         1     0.0  0.573041  ...         0           0           0\n",
              "2         1     1.0  0.390058  ...         0           0           1\n",
              "3         1     0.0  0.527295  ...         0           0           1\n",
              "4         0     1.0  0.527295  ...         1           0           1\n",
              "\n",
              "[5 rows x 9 columns]"
            ]
          },
          "metadata": {
            "tags": []
          },
          "execution_count": 3
        }
      ]
    },
    {
      "cell_type": "code",
      "metadata": {
        "colab": {
          "base_uri": "https://localhost:8080/",
          "height": 294
        },
        "id": "OsevMjAvT2Qy",
        "outputId": "da450c6e-3591-487d-b579-198af940b346"
      },
      "source": [
        "X = titanic_data[titanic_data.columns[1:]]\n",
        "corr = X.corr()\n",
        "corr"
      ],
      "execution_count": null,
      "outputs": [
        {
          "output_type": "execute_result",
          "data": {
            "text/html": [
              "<div>\n",
              "<style scoped>\n",
              "    .dataframe tbody tr th:only-of-type {\n",
              "        vertical-align: middle;\n",
              "    }\n",
              "\n",
              "    .dataframe tbody tr th {\n",
              "        vertical-align: top;\n",
              "    }\n",
              "\n",
              "    .dataframe thead th {\n",
              "        text-align: right;\n",
              "    }\n",
              "</style>\n",
              "<table border=\"1\" class=\"dataframe\">\n",
              "  <thead>\n",
              "    <tr style=\"text-align: right;\">\n",
              "      <th></th>\n",
              "      <th>Pclass</th>\n",
              "      <th>Age</th>\n",
              "      <th>SibSp</th>\n",
              "      <th>Parch</th>\n",
              "      <th>Fare</th>\n",
              "      <th>Sex_male</th>\n",
              "      <th>Embarked_Q</th>\n",
              "      <th>Embarked_S</th>\n",
              "    </tr>\n",
              "  </thead>\n",
              "  <tbody>\n",
              "    <tr>\n",
              "      <th>Pclass</th>\n",
              "      <td>1.000000</td>\n",
              "      <td>-0.327569</td>\n",
              "      <td>-0.054688</td>\n",
              "      <td>-0.080384</td>\n",
              "      <td>-0.689576</td>\n",
              "      <td>0.133391</td>\n",
              "      <td>0.219541</td>\n",
              "      <td>0.041145</td>\n",
              "    </tr>\n",
              "    <tr>\n",
              "      <th>Age</th>\n",
              "      <td>-0.327569</td>\n",
              "      <td>1.000000</td>\n",
              "      <td>-0.144907</td>\n",
              "      <td>-0.255949</td>\n",
              "      <td>0.149328</td>\n",
              "      <td>0.099758</td>\n",
              "      <td>-0.008819</td>\n",
              "      <td>-0.003522</td>\n",
              "    </tr>\n",
              "    <tr>\n",
              "      <th>SibSp</th>\n",
              "      <td>-0.054688</td>\n",
              "      <td>-0.144907</td>\n",
              "      <td>1.000000</td>\n",
              "      <td>0.306784</td>\n",
              "      <td>0.250832</td>\n",
              "      <td>-0.201663</td>\n",
              "      <td>-0.054833</td>\n",
              "      <td>0.005831</td>\n",
              "    </tr>\n",
              "    <tr>\n",
              "      <th>Parch</th>\n",
              "      <td>-0.080384</td>\n",
              "      <td>-0.255949</td>\n",
              "      <td>0.306784</td>\n",
              "      <td>1.000000</td>\n",
              "      <td>0.263038</td>\n",
              "      <td>-0.254059</td>\n",
              "      <td>-0.108576</td>\n",
              "      <td>0.020517</td>\n",
              "    </tr>\n",
              "    <tr>\n",
              "      <th>Fare</th>\n",
              "      <td>-0.689576</td>\n",
              "      <td>0.149328</td>\n",
              "      <td>0.250832</td>\n",
              "      <td>0.263038</td>\n",
              "      <td>1.000000</td>\n",
              "      <td>-0.239992</td>\n",
              "      <td>-0.139710</td>\n",
              "      <td>-0.129325</td>\n",
              "    </tr>\n",
              "    <tr>\n",
              "      <th>Sex_male</th>\n",
              "      <td>0.133391</td>\n",
              "      <td>0.099758</td>\n",
              "      <td>-0.201663</td>\n",
              "      <td>-0.254059</td>\n",
              "      <td>-0.239992</td>\n",
              "      <td>1.000000</td>\n",
              "      <td>-0.098772</td>\n",
              "      <td>0.136469</td>\n",
              "    </tr>\n",
              "    <tr>\n",
              "      <th>Embarked_Q</th>\n",
              "      <td>0.219541</td>\n",
              "      <td>-0.008819</td>\n",
              "      <td>-0.054833</td>\n",
              "      <td>-0.108576</td>\n",
              "      <td>-0.139710</td>\n",
              "      <td>-0.098772</td>\n",
              "      <td>1.000000</td>\n",
              "      <td>-0.502040</td>\n",
              "    </tr>\n",
              "    <tr>\n",
              "      <th>Embarked_S</th>\n",
              "      <td>0.041145</td>\n",
              "      <td>-0.003522</td>\n",
              "      <td>0.005831</td>\n",
              "      <td>0.020517</td>\n",
              "      <td>-0.129325</td>\n",
              "      <td>0.136469</td>\n",
              "      <td>-0.502040</td>\n",
              "      <td>1.000000</td>\n",
              "    </tr>\n",
              "  </tbody>\n",
              "</table>\n",
              "</div>"
            ],
            "text/plain": [
              "              Pclass       Age     SibSp  ...  Sex_male  Embarked_Q  Embarked_S\n",
              "Pclass      1.000000 -0.327569 -0.054688  ...  0.133391    0.219541    0.041145\n",
              "Age        -0.327569  1.000000 -0.144907  ...  0.099758   -0.008819   -0.003522\n",
              "SibSp      -0.054688 -0.144907  1.000000  ... -0.201663   -0.054833    0.005831\n",
              "Parch      -0.080384 -0.255949  0.306784  ... -0.254059   -0.108576    0.020517\n",
              "Fare       -0.689576  0.149328  0.250832  ... -0.239992   -0.139710   -0.129325\n",
              "Sex_male    0.133391  0.099758 -0.201663  ...  1.000000   -0.098772    0.136469\n",
              "Embarked_Q  0.219541 -0.008819 -0.054833  ... -0.098772    1.000000   -0.502040\n",
              "Embarked_S  0.041145 -0.003522  0.005831  ...  0.136469   -0.502040    1.000000\n",
              "\n",
              "[8 rows x 8 columns]"
            ]
          },
          "metadata": {
            "tags": []
          },
          "execution_count": 4
        }
      ]
    },
    {
      "cell_type": "code",
      "metadata": {
        "colab": {
          "base_uri": "https://localhost:8080/",
          "height": 339
        },
        "id": "yRkoH3J9T2Qz",
        "outputId": "1107489d-76ea-4527-8a1d-5a99380c6ed8"
      },
      "source": [
        "import seaborn as sns\n",
        "import matplotlib.pyplot as plt\n",
        "\n",
        "plt.figure(figsize=(10, 4))\n",
        "sns.heatmap(corr, annot=True)"
      ],
      "execution_count": null,
      "outputs": [
        {
          "output_type": "execute_result",
          "data": {
            "text/plain": [
              "<matplotlib.axes._subplots.AxesSubplot at 0x7f17a3427590>"
            ]
          },
          "metadata": {
            "tags": []
          },
          "execution_count": 5
        },
        {
          "output_type": "display_data",
          "data": {
            "image/png": "[encoded data removed]",
            "text/plain": [
              "<Figure size 720x288 with 2 Axes>"
            ]
          },
          "metadata": {
            "tags": [],
            "needs_background": "light"
          }
        }
      ]
    },
    {
      "cell_type": "code",
      "metadata": {
        "colab": {
          "base_uri": "https://localhost:8080/"
        },
        "id": "zRsusVqCT2Qz",
        "outputId": "aaeddd4b-54d1-41ff-c8ad-4123e719a9f7"
      },
      "source": [
        "redundant_features = []\n",
        "\n",
        "for i in range(corr.shape[0]):\n",
        "    for k in range(corr.shape[1]):\n",
        "        if k > i:\n",
        "            if abs(corr.iloc[i, k]) >= 0.95:\n",
        "                print(i, k, corr.iloc[i, k])\n",
        "                redundant_features.append(X.columns[k])\n",
        "                continue\n",
        "redundant_features"
      ],
      "execution_count": null,
      "outputs": [
        {
          "output_type": "execute_result",
          "data": {
            "text/plain": [
              "[]"
            ]
          },
          "metadata": {
            "tags": []
          },
          "execution_count": 6
        }
      ]
    },
    {
      "cell_type": "code",
      "metadata": {
        "colab": {
          "base_uri": "https://localhost:8080/",
          "height": 202
        },
        "id": "lP5Pbcb8T2Q0",
        "outputId": "aaaa20f3-00f5-47c3-834d-44f5b9d0750a"
      },
      "source": [
        "filtered_titanic_data = titanic_data.drop(columns=redundant_features)\n",
        "filtered_titanic_data.head()"
      ],
      "execution_count": null,
      "outputs": [
        {
          "output_type": "execute_result",
          "data": {
            "text/html": [
              "<div>\n",
              "<style scoped>\n",
              "    .dataframe tbody tr th:only-of-type {\n",
              "        vertical-align: middle;\n",
              "    }\n",
              "\n",
              "    .dataframe tbody tr th {\n",
              "        vertical-align: top;\n",
              "    }\n",
              "\n",
              "    .dataframe thead th {\n",
              "        text-align: right;\n",
              "    }\n",
              "</style>\n",
              "<table border=\"1\" class=\"dataframe\">\n",
              "  <thead>\n",
              "    <tr style=\"text-align: right;\">\n",
              "      <th></th>\n",
              "      <th>Survived</th>\n",
              "      <th>Pclass</th>\n",
              "      <th>Age</th>\n",
              "      <th>SibSp</th>\n",
              "      <th>Parch</th>\n",
              "      <th>Fare</th>\n",
              "      <th>Sex_male</th>\n",
              "      <th>Embarked_Q</th>\n",
              "      <th>Embarked_S</th>\n",
              "    </tr>\n",
              "  </thead>\n",
              "  <tbody>\n",
              "    <tr>\n",
              "      <th>0</th>\n",
              "      <td>0</td>\n",
              "      <td>1.0</td>\n",
              "      <td>0.329064</td>\n",
              "      <td>0.333333</td>\n",
              "      <td>0.0</td>\n",
              "      <td>0.043975</td>\n",
              "      <td>1</td>\n",
              "      <td>0</td>\n",
              "      <td>1</td>\n",
              "    </tr>\n",
              "    <tr>\n",
              "      <th>1</th>\n",
              "      <td>1</td>\n",
              "      <td>0.0</td>\n",
              "      <td>0.573041</td>\n",
              "      <td>0.333333</td>\n",
              "      <td>0.0</td>\n",
              "      <td>0.432369</td>\n",
              "      <td>0</td>\n",
              "      <td>0</td>\n",
              "      <td>0</td>\n",
              "    </tr>\n",
              "    <tr>\n",
              "      <th>2</th>\n",
              "      <td>1</td>\n",
              "      <td>1.0</td>\n",
              "      <td>0.390058</td>\n",
              "      <td>0.000000</td>\n",
              "      <td>0.0</td>\n",
              "      <td>0.048069</td>\n",
              "      <td>0</td>\n",
              "      <td>0</td>\n",
              "      <td>1</td>\n",
              "    </tr>\n",
              "    <tr>\n",
              "      <th>3</th>\n",
              "      <td>1</td>\n",
              "      <td>0.0</td>\n",
              "      <td>0.527295</td>\n",
              "      <td>0.333333</td>\n",
              "      <td>0.0</td>\n",
              "      <td>0.322078</td>\n",
              "      <td>0</td>\n",
              "      <td>0</td>\n",
              "      <td>1</td>\n",
              "    </tr>\n",
              "    <tr>\n",
              "      <th>4</th>\n",
              "      <td>0</td>\n",
              "      <td>1.0</td>\n",
              "      <td>0.527295</td>\n",
              "      <td>0.000000</td>\n",
              "      <td>0.0</td>\n",
              "      <td>0.048827</td>\n",
              "      <td>1</td>\n",
              "      <td>0</td>\n",
              "      <td>1</td>\n",
              "    </tr>\n",
              "  </tbody>\n",
              "</table>\n",
              "</div>"
            ],
            "text/plain": [
              "   Survived  Pclass       Age  ...  Sex_male  Embarked_Q  Embarked_S\n",
              "0         0     1.0  0.329064  ...         1           0           1\n",
              "1         1     0.0  0.573041  ...         0           0           0\n",
              "2         1     1.0  0.390058  ...         0           0           1\n",
              "3         1     0.0  0.527295  ...         0           0           1\n",
              "4         0     1.0  0.527295  ...         1           0           1\n",
              "\n",
              "[5 rows x 9 columns]"
            ]
          },
          "metadata": {
            "tags": []
          },
          "execution_count": 7
        }
      ]
    },
    {
      "cell_type": "code",
      "metadata": {
        "colab": {
          "base_uri": "https://localhost:8080/"
        },
        "id": "nK0WyNAoT2Q0",
        "outputId": "e2efeffd-aeab-49f8-bc5f-cc3348dca4d8"
      },
      "source": [
        "from sklearn.neighbors import KNeighborsClassifier\n",
        "from sklearn.model_selection import train_test_split\n",
        "from sklearn.metrics import accuracy_score\n",
        "\n",
        "y = titanic_data.Survived\n",
        "\n",
        "model = KNeighborsClassifier()\n",
        "\n",
        "train_X, val_X, train_y, val_y = train_test_split(X, y, shuffle=True)\n",
        "model.fit(train_X, train_y)\n",
        "\n",
        "train_predictions = model.predict(train_X)\n",
        "print('before: ' + str(accuracy_score(train_y, train_predictions)))\n",
        "\n",
        "X = filtered_titanic_data[filtered_titanic_data.columns[1:]]\n",
        "train_X, val_X, train_y, val_y = train_test_split(X, y, shuffle=True)\n",
        "model.fit(train_X, train_y)\n",
        "\n",
        "train_predictions = model.predict(train_X)\n",
        "print('after: ' + str(accuracy_score(train_y, train_predictions)))"
      ],
      "execution_count": null,
      "outputs": [
        {
          "output_type": "stream",
          "text": [
            "before: 0.8515497553017944\n",
            "after: 0.8450244698205547\n"
          ],
          "name": "stdout"
        }
      ]
    },
    {
      "cell_type": "code",
      "metadata": {
        "colab": {
          "base_uri": "https://localhost:8080/",
          "height": 141
        },
        "id": "sthijTsrT2Q1",
        "outputId": "fa00d2bd-3281-426c-bd44-d0695a1e2c94"
      },
      "source": [
        "from sklearn.feature_selection import chi2\n",
        "import numpy as np\n",
        "\n",
        "titanic_data2 = titanic_data[['Survived', 'Sex_male', 'Embarked_Q', 'Embarked_S']]\n",
        "# titanic_data2 = titanic_data\n",
        "\n",
        "chi2_stats = chi2(titanic_data2, np.array(titanic_data.iloc[:, 0]))[0]\n",
        "chi2_stats_table = pd.DataFrame({ 'column': titanic_data2.columns[1:], 'chi2_stats': chi2_stats[1:] }) \\\n",
        "    .sort_values(by='chi2_stats', ascending=True)\n",
        "chi2_stats_table"
      ],
      "execution_count": null,
      "outputs": [
        {
          "output_type": "execute_result",
          "data": {
            "text/html": [
              "<div>\n",
              "<style scoped>\n",
              "    .dataframe tbody tr th:only-of-type {\n",
              "        vertical-align: middle;\n",
              "    }\n",
              "\n",
              "    .dataframe tbody tr th {\n",
              "        vertical-align: top;\n",
              "    }\n",
              "\n",
              "    .dataframe thead th {\n",
              "        text-align: right;\n",
              "    }\n",
              "</style>\n",
              "<table border=\"1\" class=\"dataframe\">\n",
              "  <thead>\n",
              "    <tr style=\"text-align: right;\">\n",
              "      <th></th>\n",
              "      <th>column</th>\n",
              "      <th>chi2_stats</th>\n",
              "    </tr>\n",
              "  </thead>\n",
              "  <tbody>\n",
              "    <tr>\n",
              "      <th>1</th>\n",
              "      <td>Embarked_Q</td>\n",
              "      <td>0.340991</td>\n",
              "    </tr>\n",
              "    <tr>\n",
              "      <th>2</th>\n",
              "      <td>Embarked_S</td>\n",
              "      <td>4.759596</td>\n",
              "    </tr>\n",
              "    <tr>\n",
              "      <th>0</th>\n",
              "      <td>Sex_male</td>\n",
              "      <td>85.323417</td>\n",
              "    </tr>\n",
              "  </tbody>\n",
              "</table>\n",
              "</div>"
            ],
            "text/plain": [
              "       column  chi2_stats\n",
              "1  Embarked_Q    0.340991\n",
              "2  Embarked_S    4.759596\n",
              "0    Sex_male   85.323417"
            ]
          },
          "metadata": {
            "tags": []
          },
          "execution_count": 9
        }
      ]
    },
    {
      "cell_type": "code",
      "metadata": {
        "colab": {
          "base_uri": "https://localhost:8080/",
          "height": 335
        },
        "id": "F66KCoIHT2Q1",
        "outputId": "606d6f61-faa6-4b6e-a4ca-82287d300d6a"
      },
      "source": [
        "plt.xticks(rotation='vertical')\n",
        "plt.plot(chi2_stats_table['column'], chi2_stats_table['chi2_stats'])"
      ],
      "execution_count": null,
      "outputs": [
        {
          "output_type": "execute_result",
          "data": {
            "text/plain": [
              "[<matplotlib.lines.Line2D at 0x7f1798842fd0>]"
            ]
          },
          "metadata": {
            "tags": []
          },
          "execution_count": 10
        },
        {
          "output_type": "display_data",
          "data": {
            "image/png": "[encoded data removed]",
            "text/plain": [
              "<Figure size 432x288 with 1 Axes>"
            ]
          },
          "metadata": {
            "tags": [],
            "needs_background": "light"
          }
        }
      ]
    },
    {
      "cell_type": "code",
      "metadata": {
        "colab": {
          "base_uri": "https://localhost:8080/",
          "height": 280
        },
        "id": "4hxfinF9T2Q3",
        "outputId": "32172df2-fc4f-4e5f-bf8a-36816684d4c8"
      },
      "source": [
        "def plot(model, stats_table, data):\n",
        "    X = data[data.columns[1:]]\n",
        "    y = data.Survived\n",
        "\n",
        "    train_X, val_X, train_y, val_y = train_test_split(X, y, shuffle=True)\n",
        "    model.fit(train_X, train_y)\n",
        "\n",
        "    accuracy = {\n",
        "        \"None\": accuracy_score(train_y, model.predict(train_X[X.columns]))\n",
        "    }\n",
        "    for feature_name in stats_table['column']:\n",
        "        model.fit(X, y)\n",
        "        accuracy[feature_name] = accuracy_score(train_y, model.predict(train_X[X.columns])) \n",
        "        X = X.drop(feature_name, axis=1)\n",
        "        \n",
        "        if len(X.columns)-1 < 0:\n",
        "            break\n",
        "\n",
        "    plt.xlabel(\"deleted features\")\n",
        "    plt.ylabel(\"accuracy\")\n",
        "    plt.plot(list(accuracy.keys()), list(accuracy.values()))\n",
        "    plt.show()\n",
        "\n",
        "model = KNeighborsClassifier()\n",
        "plot(model, chi2_stats_table, titanic_data)"
      ],
      "execution_count": null,
      "outputs": [
        {
          "output_type": "display_data",
          "data": {
            "image/png": "[encoded data removed]",
            "text/plain": [
              "<Figure size 432x288 with 1 Axes>"
            ]
          },
          "metadata": {
            "tags": [],
            "needs_background": "light"
          }
        }
      ]
    },
    {
      "cell_type": "code",
      "metadata": {
        "colab": {
          "base_uri": "https://localhost:8080/",
          "height": 171
        },
        "id": "u-JY0_HCb-dH",
        "outputId": "32912605-bc94-4b30-ff19-585a5906e056"
      },
      "source": [
        "from sklearn.feature_selection import f_classif\n",
        "\n",
        "titanic_data2 = titanic_data.drop(['Survived', 'Sex_male', 'Embarked_Q', 'Embarked_S'], axis=1)\n",
        "\n",
        "anova_stats = f_classif(titanic_data2, np.array(titanic_data.iloc[:, 0]))[0]\n",
        "anova_stats_table = pd.DataFrame({ 'column': titanic_data2.columns[1:], 'anova_stats': anova_stats[1:] }) \\\n",
        "    .sort_values(by='anova_stats', ascending=True)\n",
        "anova_stats_table"
      ],
      "execution_count": null,
      "outputs": [
        {
          "output_type": "execute_result",
          "data": {
            "text/html": [
              "<div>\n",
              "<style scoped>\n",
              "    .dataframe tbody tr th:only-of-type {\n",
              "        vertical-align: middle;\n",
              "    }\n",
              "\n",
              "    .dataframe tbody tr th {\n",
              "        vertical-align: top;\n",
              "    }\n",
              "\n",
              "    .dataframe thead th {\n",
              "        text-align: right;\n",
              "    }\n",
              "</style>\n",
              "<table border=\"1\" class=\"dataframe\">\n",
              "  <thead>\n",
              "    <tr style=\"text-align: right;\">\n",
              "      <th></th>\n",
              "      <th>column</th>\n",
              "      <th>anova_stats</th>\n",
              "    </tr>\n",
              "  </thead>\n",
              "  <tbody>\n",
              "    <tr>\n",
              "      <th>0</th>\n",
              "      <td>Age</td>\n",
              "      <td>7.381101</td>\n",
              "    </tr>\n",
              "    <tr>\n",
              "      <th>1</th>\n",
              "      <td>SibSp</td>\n",
              "      <td>7.654651</td>\n",
              "    </tr>\n",
              "    <tr>\n",
              "      <th>2</th>\n",
              "      <td>Parch</td>\n",
              "      <td>35.031394</td>\n",
              "    </tr>\n",
              "    <tr>\n",
              "      <th>3</th>\n",
              "      <td>Fare</td>\n",
              "      <td>97.587059</td>\n",
              "    </tr>\n",
              "  </tbody>\n",
              "</table>\n",
              "</div>"
            ],
            "text/plain": [
              "  column  anova_stats\n",
              "0    Age     7.381101\n",
              "1  SibSp     7.654651\n",
              "2  Parch    35.031394\n",
              "3   Fare    97.587059"
            ]
          },
          "metadata": {
            "tags": []
          },
          "execution_count": 12
        }
      ]
    },
    {
      "cell_type": "code",
      "metadata": {
        "colab": {
          "base_uri": "https://localhost:8080/",
          "height": 301
        },
        "id": "5KPKbIhjd4hH",
        "outputId": "2e7107eb-a4ba-486f-8be9-9fd8ef8d5b31"
      },
      "source": [
        "plt.xticks(rotation='vertical')\n",
        "plt.plot(anova_stats_table['column'], anova_stats_table['anova_stats'])"
      ],
      "execution_count": null,
      "outputs": [
        {
          "output_type": "execute_result",
          "data": {
            "text/plain": [
              "[<matplotlib.lines.Line2D at 0x7f1798763510>]"
            ]
          },
          "metadata": {
            "tags": []
          },
          "execution_count": 13
        },
        {
          "output_type": "display_data",
          "data": {
            "image/png": "[encoded data removed]",
            "text/plain": [
              "<Figure size 432x288 with 1 Axes>"
            ]
          },
          "metadata": {
            "tags": [],
            "needs_background": "light"
          }
        }
      ]
    },
    {
      "cell_type": "code",
      "metadata": {
        "colab": {
          "base_uri": "https://localhost:8080/",
          "height": 279
        },
        "id": "m7Ik4H8Yhq5O",
        "outputId": "f9fe5174-bcfe-4d79-b730-5bd93ae800e2"
      },
      "source": [
        "plot(model, anova_stats_table, titanic_data)"
      ],
      "execution_count": null,
      "outputs": [
        {
          "output_type": "display_data",
          "data": {
            "image/png": "[encoded data removed]",
            "text/plain": [
              "<Figure size 432x288 with 1 Axes>"
            ]
          },
          "metadata": {
            "tags": [],
            "needs_background": "light"
          }
        }
      ]
    },
    {
      "cell_type": "code",
      "metadata": {
        "colab": {
          "base_uri": "https://localhost:8080/"
        },
        "id": "8vbdAGTFT2Q4",
        "outputId": "14aa962d-6976-49b7-df91-53c411552590"
      },
      "source": [
        "from sklearn.ensemble import RandomForestClassifier\n",
        "from sklearn.model_selection import GridSearchCV\n",
        "\n",
        "X = titanic_data[titanic_data.columns[1:]]\n",
        "y = titanic_data.Survived\n",
        "\n",
        "random_forest_model = RandomForestClassifier()\n",
        "grid_search = GridSearchCV(random_forest_model, param_grid={'max_depth': range(1, 20)})\n",
        "grid_search.fit(X, y)\n",
        "max_depth = grid_search.best_params_['max_depth']\n",
        "max_depth"
      ],
      "execution_count": null,
      "outputs": [
        {
          "output_type": "execute_result",
          "data": {
            "text/plain": [
              "10"
            ]
          },
          "metadata": {
            "tags": []
          },
          "execution_count": 15
        }
      ]
    },
    {
      "cell_type": "code",
      "metadata": {
        "colab": {
          "base_uri": "https://localhost:8080/",
          "height": 294
        },
        "id": "U40Nm2lNT2Q5",
        "outputId": "325e8abe-3d48-4f5c-df2f-ea5d82b6f305"
      },
      "source": [
        "random_forest_model = RandomForestClassifier(max_depth=max_depth)\n",
        "random_forest_model.fit(X, y)\n",
        "\n",
        "random_forest_stats_table = pd.DataFrame({ 'column': titanic_data.columns[1:], 'random_forest_stats': random_forest_model.feature_importances_ }) \\\n",
        "    .sort_values(by='random_forest_stats', ascending=True)\n",
        "random_forest_stats_table"
      ],
      "execution_count": null,
      "outputs": [
        {
          "output_type": "execute_result",
          "data": {
            "text/html": [
              "<div>\n",
              "<style scoped>\n",
              "    .dataframe tbody tr th:only-of-type {\n",
              "        vertical-align: middle;\n",
              "    }\n",
              "\n",
              "    .dataframe tbody tr th {\n",
              "        vertical-align: top;\n",
              "    }\n",
              "\n",
              "    .dataframe thead th {\n",
              "        text-align: right;\n",
              "    }\n",
              "</style>\n",
              "<table border=\"1\" class=\"dataframe\">\n",
              "  <thead>\n",
              "    <tr style=\"text-align: right;\">\n",
              "      <th></th>\n",
              "      <th>column</th>\n",
              "      <th>random_forest_stats</th>\n",
              "    </tr>\n",
              "  </thead>\n",
              "  <tbody>\n",
              "    <tr>\n",
              "      <th>6</th>\n",
              "      <td>Embarked_Q</td>\n",
              "      <td>0.012597</td>\n",
              "    </tr>\n",
              "    <tr>\n",
              "      <th>7</th>\n",
              "      <td>Embarked_S</td>\n",
              "      <td>0.022410</td>\n",
              "    </tr>\n",
              "    <tr>\n",
              "      <th>3</th>\n",
              "      <td>Parch</td>\n",
              "      <td>0.041394</td>\n",
              "    </tr>\n",
              "    <tr>\n",
              "      <th>2</th>\n",
              "      <td>SibSp</td>\n",
              "      <td>0.047600</td>\n",
              "    </tr>\n",
              "    <tr>\n",
              "      <th>0</th>\n",
              "      <td>Pclass</td>\n",
              "      <td>0.078920</td>\n",
              "    </tr>\n",
              "    <tr>\n",
              "      <th>1</th>\n",
              "      <td>Age</td>\n",
              "      <td>0.213906</td>\n",
              "    </tr>\n",
              "    <tr>\n",
              "      <th>4</th>\n",
              "      <td>Fare</td>\n",
              "      <td>0.255088</td>\n",
              "    </tr>\n",
              "    <tr>\n",
              "      <th>5</th>\n",
              "      <td>Sex_male</td>\n",
              "      <td>0.328085</td>\n",
              "    </tr>\n",
              "  </tbody>\n",
              "</table>\n",
              "</div>"
            ],
            "text/plain": [
              "       column  random_forest_stats\n",
              "6  Embarked_Q             0.012597\n",
              "7  Embarked_S             0.022410\n",
              "3       Parch             0.041394\n",
              "2       SibSp             0.047600\n",
              "0      Pclass             0.078920\n",
              "1         Age             0.213906\n",
              "4        Fare             0.255088\n",
              "5    Sex_male             0.328085"
            ]
          },
          "metadata": {
            "tags": []
          },
          "execution_count": 16
        }
      ]
    },
    {
      "cell_type": "code",
      "metadata": {
        "colab": {
          "base_uri": "https://localhost:8080/",
          "height": 335
        },
        "id": "287wLrSET2Q5",
        "outputId": "f583717d-248d-40a2-bf9a-09bf394eee7e"
      },
      "source": [
        "plt.xticks(rotation='vertical')\n",
        "plt.plot(random_forest_stats_table['column'], random_forest_stats_table['random_forest_stats'])"
      ],
      "execution_count": null,
      "outputs": [
        {
          "output_type": "execute_result",
          "data": {
            "text/plain": [
              "[<matplotlib.lines.Line2D at 0x7f179782cb50>]"
            ]
          },
          "metadata": {
            "tags": []
          },
          "execution_count": 17
        },
        {
          "output_type": "display_data",
          "data": {
            "image/png": "[encoded data removed]",
            "text/plain": [
              "<Figure size 432x288 with 1 Axes>"
            ]
          },
          "metadata": {
            "tags": [],
            "needs_background": "light"
          }
        }
      ]
    },
    {
      "cell_type": "code",
      "metadata": {
        "colab": {
          "base_uri": "https://localhost:8080/",
          "height": 280
        },
        "id": "JWUJWIpi4IOa",
        "outputId": "502006c0-62fd-4502-92f7-079f3ad79d47"
      },
      "source": [
        "plot(random_forest_model, random_forest_stats_table, titanic_data)"
      ],
      "execution_count": null,
      "outputs": [
        {
          "output_type": "display_data",
          "data": {
            "image/png": "[encoded data removed]",
            "text/plain": [
              "<Figure size 432x288 with 1 Axes>"
            ]
          },
          "metadata": {
            "tags": [],
            "needs_background": "light"
          }
        }
      ]
    },
    {
      "cell_type": "code",
      "metadata": {
        "colab": {
          "base_uri": "https://localhost:8080/"
        },
        "id": "o3dB0fLM60vA",
        "outputId": "ada802f3-3a7c-4904-aa63-5d5af499a9e3"
      },
      "source": [
        "X = titanic_data[titanic_data.columns[1:]]\n",
        "y = titanic_data.Survived\n",
        "\n",
        "train_X, val_X, train_y, val_y = train_test_split(X, y, shuffle=True)\n",
        "random_forest_model.fit(train_X, train_y)\n",
        "\n",
        "train_predictions = random_forest_model.predict(train_X)\n",
        "print('before: ' + str(accuracy_score(train_y, train_predictions)))\n",
        "\n",
        "filtered_titanic_data = titanic_data.drop(columns='Embarked_Q')\n",
        "X = filtered_titanic_data[filtered_titanic_data.columns[1:]]\n",
        "train_X, val_X, train_y, val_y = train_test_split(X, y, shuffle=True)\n",
        "random_forest_model.fit(train_X, train_y)\n",
        "\n",
        "train_predictions = random_forest_model.predict(train_X)\n",
        "print('after: ' + str(accuracy_score(train_y, train_predictions)))"
      ],
      "execution_count": null,
      "outputs": [
        {
          "output_type": "stream",
          "text": [
            "before: 0.9380097879282219\n",
            "after: 0.9526916802610114\n"
          ],
          "name": "stdout"
        }
      ]
    },
    {
      "cell_type": "code",
      "metadata": {
        "colab": {
          "base_uri": "https://localhost:8080/",
          "height": 141
        },
        "id": "9OMK_FFeRHJR",
        "outputId": "b3035279-f597-40aa-e07d-4703d59aad5a"
      },
      "source": [
        "from sklearn.model_selection import cross_val_score\n",
        "\n",
        "def forward_selection(data, model, score_delta=0.005, maximum_variables=float(\"inf\")):\n",
        "    if maximum_variables == float(\"inf\"):\n",
        "        maximum_variables = len(data.columns)\n",
        "\n",
        "    X = data[data.columns[1:]]\n",
        "    y = data.Survived\n",
        "    variables = {}\n",
        "    not_used_variables = list(X.columns)\n",
        "    \n",
        "    old_score = 0\n",
        "    for i in range(len(not_used_variables)):\n",
        "        if len(variables) >= maximum_variables:\n",
        "            break\n",
        "        best_score = 0\n",
        "        best_variable_index = None\n",
        "        for j in range(len(not_used_variables)):\n",
        "            new_variables = list(variables)\n",
        "            new_variables.append(not_used_variables[j])\n",
        "            score = np.mean(cross_val_score(model, X[new_variables], y))\n",
        "            if(score > best_score):\n",
        "                best_score = score\n",
        "                best_variable_index = j\n",
        "        if best_score - old_score <= score_delta:\n",
        "            break\n",
        "        \n",
        "        variables[not_used_variables.pop(best_variable_index)] = best_score - old_score\n",
        "        old_score = best_score\n",
        "    return variables\n",
        "\n",
        "forward_selection_stats = forward_selection(titanic_data, model)\n",
        "\n",
        "forward_selection_stats_table = pd.DataFrame({ 'column': forward_selection_stats.keys(), 'forward_selection_stats': forward_selection_stats.values() }) \\\n",
        "    .sort_values(by='forward_selection_stats', ascending=False)\n",
        "forward_selection_stats_table"
      ],
      "execution_count": null,
      "outputs": [
        {
          "output_type": "execute_result",
          "data": {
            "text/html": [
              "<div>\n",
              "<style scoped>\n",
              "    .dataframe tbody tr th:only-of-type {\n",
              "        vertical-align: middle;\n",
              "    }\n",
              "\n",
              "    .dataframe tbody tr th {\n",
              "        vertical-align: top;\n",
              "    }\n",
              "\n",
              "    .dataframe thead th {\n",
              "        text-align: right;\n",
              "    }\n",
              "</style>\n",
              "<table border=\"1\" class=\"dataframe\">\n",
              "  <thead>\n",
              "    <tr style=\"text-align: right;\">\n",
              "      <th></th>\n",
              "      <th>column</th>\n",
              "      <th>forward_selection_stats</th>\n",
              "    </tr>\n",
              "  </thead>\n",
              "  <tbody>\n",
              "    <tr>\n",
              "      <th>0</th>\n",
              "      <td>Sex_male</td>\n",
              "      <td>0.682418</td>\n",
              "    </tr>\n",
              "    <tr>\n",
              "      <th>1</th>\n",
              "      <td>Age</td>\n",
              "      <td>0.109779</td>\n",
              "    </tr>\n",
              "    <tr>\n",
              "      <th>2</th>\n",
              "      <td>Pclass</td>\n",
              "      <td>0.028124</td>\n",
              "    </tr>\n",
              "  </tbody>\n",
              "</table>\n",
              "</div>"
            ],
            "text/plain": [
              "     column  forward_selection_stats\n",
              "0  Sex_male                 0.682418\n",
              "1       Age                 0.109779\n",
              "2    Pclass                 0.028124"
            ]
          },
          "metadata": {
            "tags": []
          },
          "execution_count": 33
        }
      ]
    },
    {
      "cell_type": "code",
      "metadata": {
        "colab": {
          "base_uri": "https://localhost:8080/"
        },
        "id": "7dkBTD-7UIq_",
        "outputId": "37633ec8-3fab-440c-9bd7-3de87140c9cb"
      },
      "source": [
        "def backward_elimination(data, model, k_columns=5, score_delta=0.05):\n",
        "    \n",
        "    X = data[data.columns[1:]]\n",
        "    y = data.Survived\n",
        "\n",
        "    column_list = list(X.columns)\n",
        "    prev_score = np.mean(cross_val_score(model, X, y))\n",
        "    while len(column_list) > k_columns:\n",
        "        best_score = 0\n",
        "        new_columns = None\n",
        "        for column in column_list:\n",
        "            tmp_columns = column_list.copy()\n",
        "            tmp_columns.remove(column)\n",
        "            score = np.mean(cross_val_score(model, X[tmp_columns], y))\n",
        "\n",
        "            if score > best_score:\n",
        "                best_score = score\n",
        "                new_columns = tmp_columns\n",
        "        column_to_remove = list(set(column_list) - set(new_columns))\n",
        "        if prev_score > best_score + score_delta:\n",
        "            break\n",
        "        column_list = new_columns\n",
        "        prev_score = best_score\n",
        "    return column_list\n",
        "\n",
        "backward_elimination(titanic_data, model)"
      ],
      "execution_count": null,
      "outputs": [
        {
          "output_type": "execute_result",
          "data": {
            "text/plain": [
              "['Pclass', 'Age', 'Fare', 'Sex_male', 'Embarked_S']"
            ]
          },
          "metadata": {
            "tags": []
          },
          "execution_count": 48
        }
      ]
    }
  ]
}