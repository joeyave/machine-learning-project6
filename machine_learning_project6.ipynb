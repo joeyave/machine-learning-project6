{
  "nbformat": 4,
  "nbformat_minor": 0,
  "metadata": {
    "kernelspec": {
      "display_name": "Python 3",
      "language": "python",
      "name": "python3"
    },
    "language_info": {
      "codemirror_mode": {
        "name": "ipython",
        "version": 3
      },
      "file_extension": ".py",
      "mimetype": "text/x-python",
      "name": "python",
      "nbconvert_exporter": "python",
      "pygments_lexer": "ipython3",
      "version": "3.8.3"
    },
    "colab": {
      "name": "machine-learning-project6.ipynb",
      "provenance": [],
      "collapsed_sections": [],
      "include_colab_link": true
    }
  },
  "cells": [
    {
      "cell_type": "markdown",
      "metadata": {
        "id": "view-in-github",
        "colab_type": "text"
      },
      "source": [
        "<a href=\"https://colab.research.google.com/github/joeyave/machine-learning-project6/blob/main/machine_learning_project6.ipynb\" target=\"_parent\"><img src=\"https://colab.research.google.com/assets/colab-badge.svg\" alt=\"Open In Colab\"/></a>"
      ]
    },
    {
      "cell_type": "code",
      "metadata": {
        "colab": {
          "base_uri": "https://localhost:8080/"
        },
        "id": "8f6tjfSjT7qY",
        "outputId": "00321df0-268e-4851-fcd9-65e211d0f854"
      },
      "source": [
        "from google.colab import drive\n",
        "drive.mount('/content/drive')"
      ],
      "execution_count": null,
      "outputs": [
        {
          "output_type": "stream",
          "text": [
            "Mounted at /content/drive\n"
          ],
          "name": "stdout"
        }
      ]
    },
    {
      "cell_type": "code",
      "metadata": {
        "colab": {
          "base_uri": "https://localhost:8080/",
          "height": 202
        },
        "id": "bOcrs4mhT2Qx",
        "outputId": "441382e7-e9e7-4800-e48c-8f907b46fcbc"
      },
      "source": [
        "import pandas as pd\n",
        "\n",
        "titanic_file_path = '/content/drive/My Drive/Colab Notebooks/train-project2.csv'\n",
        "titanic_data = pd.read_csv(titanic_file_path)\n",
        "titanic_data.head()"
      ],
      "execution_count": null,
      "outputs": [
        {
          "output_type": "execute_result",
          "data": {
            "text/html": [
              "<div>\n",
              "<style scoped>\n",
              "    .dataframe tbody tr th:only-of-type {\n",
              "        vertical-align: middle;\n",
              "    }\n",
              "\n",
              "    .dataframe tbody tr th {\n",
              "        vertical-align: top;\n",
              "    }\n",
              "\n",
              "    .dataframe thead th {\n",
              "        text-align: right;\n",
              "    }\n",
              "</style>\n",
              "<table border=\"1\" class=\"dataframe\">\n",
              "  <thead>\n",
              "    <tr style=\"text-align: right;\">\n",
              "      <th></th>\n",
              "      <th>Survived</th>\n",
              "      <th>Pclass</th>\n",
              "      <th>Age</th>\n",
              "      <th>SibSp</th>\n",
              "      <th>Parch</th>\n",
              "      <th>Fare</th>\n",
              "      <th>Sex_male</th>\n",
              "      <th>Embarked_Q</th>\n",
              "      <th>Embarked_S</th>\n",
              "    </tr>\n",
              "  </thead>\n",
              "  <tbody>\n",
              "    <tr>\n",
              "      <th>0</th>\n",
              "      <td>0</td>\n",
              "      <td>1.0</td>\n",
              "      <td>0.329064</td>\n",
              "      <td>0.333333</td>\n",
              "      <td>0.0</td>\n",
              "      <td>0.043975</td>\n",
              "      <td>1</td>\n",
              "      <td>0</td>\n",
              "      <td>1</td>\n",
              "    </tr>\n",
              "    <tr>\n",
              "      <th>1</th>\n",
              "      <td>1</td>\n",
              "      <td>0.0</td>\n",
              "      <td>0.573041</td>\n",
              "      <td>0.333333</td>\n",
              "      <td>0.0</td>\n",
              "      <td>0.432369</td>\n",
              "      <td>0</td>\n",
              "      <td>0</td>\n",
              "      <td>0</td>\n",
              "    </tr>\n",
              "    <tr>\n",
              "      <th>2</th>\n",
              "      <td>1</td>\n",
              "      <td>1.0</td>\n",
              "      <td>0.390058</td>\n",
              "      <td>0.000000</td>\n",
              "      <td>0.0</td>\n",
              "      <td>0.048069</td>\n",
              "      <td>0</td>\n",
              "      <td>0</td>\n",
              "      <td>1</td>\n",
              "    </tr>\n",
              "    <tr>\n",
              "      <th>3</th>\n",
              "      <td>1</td>\n",
              "      <td>0.0</td>\n",
              "      <td>0.527295</td>\n",
              "      <td>0.333333</td>\n",
              "      <td>0.0</td>\n",
              "      <td>0.322078</td>\n",
              "      <td>0</td>\n",
              "      <td>0</td>\n",
              "      <td>1</td>\n",
              "    </tr>\n",
              "    <tr>\n",
              "      <th>4</th>\n",
              "      <td>0</td>\n",
              "      <td>1.0</td>\n",
              "      <td>0.527295</td>\n",
              "      <td>0.000000</td>\n",
              "      <td>0.0</td>\n",
              "      <td>0.048827</td>\n",
              "      <td>1</td>\n",
              "      <td>0</td>\n",
              "      <td>1</td>\n",
              "    </tr>\n",
              "  </tbody>\n",
              "</table>\n",
              "</div>"
            ],
            "text/plain": [
              "   Survived  Pclass       Age  ...  Sex_male  Embarked_Q  Embarked_S\n",
              "0         0     1.0  0.329064  ...         1           0           1\n",
              "1         1     0.0  0.573041  ...         0           0           0\n",
              "2         1     1.0  0.390058  ...         0           0           1\n",
              "3         1     0.0  0.527295  ...         0           0           1\n",
              "4         0     1.0  0.527295  ...         1           0           1\n",
              "\n",
              "[5 rows x 9 columns]"
            ]
          },
          "metadata": {
            "tags": []
          },
          "execution_count": 5
        }
      ]
    },
    {
      "cell_type": "code",
      "metadata": {
        "colab": {
          "base_uri": "https://localhost:8080/",
          "height": 294
        },
        "id": "OsevMjAvT2Qy",
        "outputId": "fe85076f-b467-4569-e15f-77e0decbc7b2"
      },
      "source": [
        "X = titanic_data[titanic_data.columns[1:]]\n",
        "corr = X.corr()\n",
        "corr"
      ],
      "execution_count": null,
      "outputs": [
        {
          "output_type": "execute_result",
          "data": {
            "text/html": [
              "<div>\n",
              "<style scoped>\n",
              "    .dataframe tbody tr th:only-of-type {\n",
              "        vertical-align: middle;\n",
              "    }\n",
              "\n",
              "    .dataframe tbody tr th {\n",
              "        vertical-align: top;\n",
              "    }\n",
              "\n",
              "    .dataframe thead th {\n",
              "        text-align: right;\n",
              "    }\n",
              "</style>\n",
              "<table border=\"1\" class=\"dataframe\">\n",
              "  <thead>\n",
              "    <tr style=\"text-align: right;\">\n",
              "      <th></th>\n",
              "      <th>Pclass</th>\n",
              "      <th>Age</th>\n",
              "      <th>SibSp</th>\n",
              "      <th>Parch</th>\n",
              "      <th>Fare</th>\n",
              "      <th>Sex_male</th>\n",
              "      <th>Embarked_Q</th>\n",
              "      <th>Embarked_S</th>\n",
              "    </tr>\n",
              "  </thead>\n",
              "  <tbody>\n",
              "    <tr>\n",
              "      <th>Pclass</th>\n",
              "      <td>1.000000</td>\n",
              "      <td>-0.327569</td>\n",
              "      <td>-0.054688</td>\n",
              "      <td>-0.080384</td>\n",
              "      <td>-0.689576</td>\n",
              "      <td>0.133391</td>\n",
              "      <td>0.219541</td>\n",
              "      <td>0.041145</td>\n",
              "    </tr>\n",
              "    <tr>\n",
              "      <th>Age</th>\n",
              "      <td>-0.327569</td>\n",
              "      <td>1.000000</td>\n",
              "      <td>-0.144907</td>\n",
              "      <td>-0.255949</td>\n",
              "      <td>0.149328</td>\n",
              "      <td>0.099758</td>\n",
              "      <td>-0.008819</td>\n",
              "      <td>-0.003522</td>\n",
              "    </tr>\n",
              "    <tr>\n",
              "      <th>SibSp</th>\n",
              "      <td>-0.054688</td>\n",
              "      <td>-0.144907</td>\n",
              "      <td>1.000000</td>\n",
              "      <td>0.306784</td>\n",
              "      <td>0.250832</td>\n",
              "      <td>-0.201663</td>\n",
              "      <td>-0.054833</td>\n",
              "      <td>0.005831</td>\n",
              "    </tr>\n",
              "    <tr>\n",
              "      <th>Parch</th>\n",
              "      <td>-0.080384</td>\n",
              "      <td>-0.255949</td>\n",
              "      <td>0.306784</td>\n",
              "      <td>1.000000</td>\n",
              "      <td>0.263038</td>\n",
              "      <td>-0.254059</td>\n",
              "      <td>-0.108576</td>\n",
              "      <td>0.020517</td>\n",
              "    </tr>\n",
              "    <tr>\n",
              "      <th>Fare</th>\n",
              "      <td>-0.689576</td>\n",
              "      <td>0.149328</td>\n",
              "      <td>0.250832</td>\n",
              "      <td>0.263038</td>\n",
              "      <td>1.000000</td>\n",
              "      <td>-0.239992</td>\n",
              "      <td>-0.139710</td>\n",
              "      <td>-0.129325</td>\n",
              "    </tr>\n",
              "    <tr>\n",
              "      <th>Sex_male</th>\n",
              "      <td>0.133391</td>\n",
              "      <td>0.099758</td>\n",
              "      <td>-0.201663</td>\n",
              "      <td>-0.254059</td>\n",
              "      <td>-0.239992</td>\n",
              "      <td>1.000000</td>\n",
              "      <td>-0.098772</td>\n",
              "      <td>0.136469</td>\n",
              "    </tr>\n",
              "    <tr>\n",
              "      <th>Embarked_Q</th>\n",
              "      <td>0.219541</td>\n",
              "      <td>-0.008819</td>\n",
              "      <td>-0.054833</td>\n",
              "      <td>-0.108576</td>\n",
              "      <td>-0.139710</td>\n",
              "      <td>-0.098772</td>\n",
              "      <td>1.000000</td>\n",
              "      <td>-0.502040</td>\n",
              "    </tr>\n",
              "    <tr>\n",
              "      <th>Embarked_S</th>\n",
              "      <td>0.041145</td>\n",
              "      <td>-0.003522</td>\n",
              "      <td>0.005831</td>\n",
              "      <td>0.020517</td>\n",
              "      <td>-0.129325</td>\n",
              "      <td>0.136469</td>\n",
              "      <td>-0.502040</td>\n",
              "      <td>1.000000</td>\n",
              "    </tr>\n",
              "  </tbody>\n",
              "</table>\n",
              "</div>"
            ],
            "text/plain": [
              "              Pclass       Age     SibSp  ...  Sex_male  Embarked_Q  Embarked_S\n",
              "Pclass      1.000000 -0.327569 -0.054688  ...  0.133391    0.219541    0.041145\n",
              "Age        -0.327569  1.000000 -0.144907  ...  0.099758   -0.008819   -0.003522\n",
              "SibSp      -0.054688 -0.144907  1.000000  ... -0.201663   -0.054833    0.005831\n",
              "Parch      -0.080384 -0.255949  0.306784  ... -0.254059   -0.108576    0.020517\n",
              "Fare       -0.689576  0.149328  0.250832  ... -0.239992   -0.139710   -0.129325\n",
              "Sex_male    0.133391  0.099758 -0.201663  ...  1.000000   -0.098772    0.136469\n",
              "Embarked_Q  0.219541 -0.008819 -0.054833  ... -0.098772    1.000000   -0.502040\n",
              "Embarked_S  0.041145 -0.003522  0.005831  ...  0.136469   -0.502040    1.000000\n",
              "\n",
              "[8 rows x 8 columns]"
            ]
          },
          "metadata": {
            "tags": []
          },
          "execution_count": 25
        }
      ]
    },
    {
      "cell_type": "code",
      "metadata": {
        "colab": {
          "base_uri": "https://localhost:8080/",
          "height": 339
        },
        "id": "yRkoH3J9T2Qz",
        "outputId": "c032c422-73cc-4c17-a3cd-856823907784"
      },
      "source": [
        "import seaborn as sns\n",
        "import matplotlib.pyplot as plt\n",
        "\n",
        "plt.figure(figsize=(10, 4))\n",
        "sns.heatmap(corr, annot=True)"
      ],
      "execution_count": null,
      "outputs": [
        {
          "output_type": "execute_result",
          "data": {
            "text/plain": [
              "<matplotlib.axes._subplots.AxesSubplot at 0x7f20ffc4f7d0>"
            ]
          },
          "metadata": {
            "tags": []
          },
          "execution_count": 62
        },
        {
          "output_type": "display_data",
          "data": {
            "image/png": "[encoded data removed]",
            "text/plain": [
              "<Figure size 720x288 with 2 Axes>"
            ]
          },
          "metadata": {
            "tags": [],
            "needs_background": "light"
          }
        }
      ]
    },
    {
      "cell_type": "code",
      "metadata": {
        "colab": {
          "base_uri": "https://localhost:8080/",
          "height": 747
        },
        "id": "JKP7K6a3T2Qz",
        "outputId": "3b3407fd-9f1d-4966-9bc5-2d4adf3df3a6"
      },
      "source": [
        "sns.clustermap(corr)"
      ],
      "execution_count": null,
      "outputs": [
        {
          "output_type": "execute_result",
          "data": {
            "text/plain": [
              "<seaborn.matrix.ClusterGrid at 0x7f2107fe5a90>"
            ]
          },
          "metadata": {
            "tags": []
          },
          "execution_count": 38
        },
        {
          "output_type": "display_data",
          "data": {
            "image/png": "[encoded data removed]",
            "text/plain": [
              "<Figure size 720x720 with 4 Axes>"
            ]
          },
          "metadata": {
            "tags": [],
            "needs_background": "light"
          }
        }
      ]
    },
    {
      "cell_type": "code",
      "metadata": {
        "colab": {
          "base_uri": "https://localhost:8080/"
        },
        "id": "zRsusVqCT2Qz",
        "outputId": "30494593-8438-49a5-be6e-3ade4c8c07ea"
      },
      "source": [
        "redundant_features = []\n",
        "\n",
        "for i in range(corr.shape[0]):\n",
        "    for k in range(corr.shape[1]):\n",
        "        if k > i:\n",
        "            if abs(corr.iloc[i, k]) >= 0.95:\n",
        "                print(i, k, corr.iloc[i, k])\n",
        "                redundant_features.append(X.columns[k])\n",
        "                continue\n",
        "redundant_features"
      ],
      "execution_count": null,
      "outputs": [
        {
          "output_type": "execute_result",
          "data": {
            "text/plain": [
              "[]"
            ]
          },
          "metadata": {
            "tags": []
          },
          "execution_count": 22
        }
      ]
    },
    {
      "cell_type": "code",
      "metadata": {
        "colab": {
          "base_uri": "https://localhost:8080/",
          "height": 202
        },
        "id": "lP5Pbcb8T2Q0",
        "outputId": "e012cd1b-19fb-4827-94be-156b8f29146c"
      },
      "source": [
        "filtered_titanic_data = titanic_data.drop(columns=redundant_features)\n",
        "filtered_titanic_data.head()"
      ],
      "execution_count": null,
      "outputs": [
        {
          "output_type": "execute_result",
          "data": {
            "text/html": [
              "<div>\n",
              "<style scoped>\n",
              "    .dataframe tbody tr th:only-of-type {\n",
              "        vertical-align: middle;\n",
              "    }\n",
              "\n",
              "    .dataframe tbody tr th {\n",
              "        vertical-align: top;\n",
              "    }\n",
              "\n",
              "    .dataframe thead th {\n",
              "        text-align: right;\n",
              "    }\n",
              "</style>\n",
              "<table border=\"1\" class=\"dataframe\">\n",
              "  <thead>\n",
              "    <tr style=\"text-align: right;\">\n",
              "      <th></th>\n",
              "      <th>Survived</th>\n",
              "      <th>Pclass</th>\n",
              "      <th>Age</th>\n",
              "      <th>SibSp</th>\n",
              "      <th>Parch</th>\n",
              "      <th>Fare</th>\n",
              "      <th>Sex_male</th>\n",
              "      <th>Embarked_Q</th>\n",
              "      <th>Embarked_S</th>\n",
              "    </tr>\n",
              "  </thead>\n",
              "  <tbody>\n",
              "    <tr>\n",
              "      <th>0</th>\n",
              "      <td>0</td>\n",
              "      <td>1.0</td>\n",
              "      <td>0.329064</td>\n",
              "      <td>0.333333</td>\n",
              "      <td>0.0</td>\n",
              "      <td>0.043975</td>\n",
              "      <td>1</td>\n",
              "      <td>0</td>\n",
              "      <td>1</td>\n",
              "    </tr>\n",
              "    <tr>\n",
              "      <th>1</th>\n",
              "      <td>1</td>\n",
              "      <td>0.0</td>\n",
              "      <td>0.573041</td>\n",
              "      <td>0.333333</td>\n",
              "      <td>0.0</td>\n",
              "      <td>0.432369</td>\n",
              "      <td>0</td>\n",
              "      <td>0</td>\n",
              "      <td>0</td>\n",
              "    </tr>\n",
              "    <tr>\n",
              "      <th>2</th>\n",
              "      <td>1</td>\n",
              "      <td>1.0</td>\n",
              "      <td>0.390058</td>\n",
              "      <td>0.000000</td>\n",
              "      <td>0.0</td>\n",
              "      <td>0.048069</td>\n",
              "      <td>0</td>\n",
              "      <td>0</td>\n",
              "      <td>1</td>\n",
              "    </tr>\n",
              "    <tr>\n",
              "      <th>3</th>\n",
              "      <td>1</td>\n",
              "      <td>0.0</td>\n",
              "      <td>0.527295</td>\n",
              "      <td>0.333333</td>\n",
              "      <td>0.0</td>\n",
              "      <td>0.322078</td>\n",
              "      <td>0</td>\n",
              "      <td>0</td>\n",
              "      <td>1</td>\n",
              "    </tr>\n",
              "    <tr>\n",
              "      <th>4</th>\n",
              "      <td>0</td>\n",
              "      <td>1.0</td>\n",
              "      <td>0.527295</td>\n",
              "      <td>0.000000</td>\n",
              "      <td>0.0</td>\n",
              "      <td>0.048827</td>\n",
              "      <td>1</td>\n",
              "      <td>0</td>\n",
              "      <td>1</td>\n",
              "    </tr>\n",
              "  </tbody>\n",
              "</table>\n",
              "</div>"
            ],
            "text/plain": [
              "   Survived  Pclass       Age  ...  Sex_male  Embarked_Q  Embarked_S\n",
              "0         0     1.0  0.329064  ...         1           0           1\n",
              "1         1     0.0  0.573041  ...         0           0           0\n",
              "2         1     1.0  0.390058  ...         0           0           1\n",
              "3         1     0.0  0.527295  ...         0           0           1\n",
              "4         0     1.0  0.527295  ...         1           0           1\n",
              "\n",
              "[5 rows x 9 columns]"
            ]
          },
          "metadata": {
            "tags": []
          },
          "execution_count": 47
        }
      ]
    },
    {
      "cell_type": "code",
      "metadata": {
        "colab": {
          "base_uri": "https://localhost:8080/"
        },
        "id": "nK0WyNAoT2Q0",
        "outputId": "9ba41976-aedb-416c-9ca7-8544be34ec0d"
      },
      "source": [
        "from sklearn.neighbors import KNeighborsClassifier\n",
        "from sklearn.model_selection import train_test_split\n",
        "from sklearn.metrics import accuracy_score\n",
        "\n",
        "y = titanic_data.Survived\n",
        "\n",
        "model = KNeighborsClassifier()\n",
        "\n",
        "train_X, val_X, train_y, val_y = train_test_split(X, y, shuffle=True)\n",
        "model.fit(train_X, train_y)\n",
        "\n",
        "train_predictions = model.predict(train_X)\n",
        "print('before: ' + str(accuracy_score(train_y, train_predictions)))\n",
        "\n",
        "X = filtered_titanic_data[filtered_titanic_data.columns[1:]]\n",
        "train_X, val_X, train_y, val_y = train_test_split(X, y, shuffle=True)\n",
        "model.fit(train_X, train_y)\n",
        "\n",
        "train_predictions = model.predict(train_X)\n",
        "print('after: ' + str(accuracy_score(train_y, train_predictions)))"
      ],
      "execution_count": null,
      "outputs": [
        {
          "output_type": "stream",
          "text": [
            "before: 0.8580750407830342\n",
            "after: 0.8760195758564437\n"
          ],
          "name": "stdout"
        }
      ]
    },
    {
      "cell_type": "code",
      "metadata": {
        "colab": {
          "base_uri": "https://localhost:8080/",
          "height": 294
        },
        "id": "sthijTsrT2Q1",
        "outputId": "084fe265-c884-4726-d7fc-afe7c2900212"
      },
      "source": [
        "from sklearn.feature_selection import chi2\n",
        "import numpy as np\n",
        "\n",
        "chi2_stats = chi2(titanic_data, np.array(titanic_data.iloc[:, 0]))[0]\n",
        "chi2_stats_table = pd.DataFrame({ 'column': titanic_data.columns[1:], 'chi2_stats': chi2_stats[1:] }) \\\n",
        "    .sort_values(by='chi2_stats', ascending=False)\n",
        "chi2_stats_table"
      ],
      "execution_count": null,
      "outputs": [
        {
          "output_type": "execute_result",
          "data": {
            "text/html": [
              "<div>\n",
              "<style scoped>\n",
              "    .dataframe tbody tr th:only-of-type {\n",
              "        vertical-align: middle;\n",
              "    }\n",
              "\n",
              "    .dataframe tbody tr th {\n",
              "        vertical-align: top;\n",
              "    }\n",
              "\n",
              "    .dataframe thead th {\n",
              "        text-align: right;\n",
              "    }\n",
              "</style>\n",
              "<table border=\"1\" class=\"dataframe\">\n",
              "  <thead>\n",
              "    <tr style=\"text-align: right;\">\n",
              "      <th></th>\n",
              "      <th>column</th>\n",
              "      <th>chi2_stats</th>\n",
              "    </tr>\n",
              "  </thead>\n",
              "  <tbody>\n",
              "    <tr>\n",
              "      <th>5</th>\n",
              "      <td>Sex_male</td>\n",
              "      <td>85.323417</td>\n",
              "    </tr>\n",
              "    <tr>\n",
              "      <th>0</th>\n",
              "      <td>Pclass</td>\n",
              "      <td>21.542741</td>\n",
              "    </tr>\n",
              "    <tr>\n",
              "      <th>3</th>\n",
              "      <td>Parch</td>\n",
              "      <td>21.073031</td>\n",
              "    </tr>\n",
              "    <tr>\n",
              "      <th>4</th>\n",
              "      <td>Fare</td>\n",
              "      <td>18.206226</td>\n",
              "    </tr>\n",
              "    <tr>\n",
              "      <th>7</th>\n",
              "      <td>Embarked_S</td>\n",
              "      <td>4.759596</td>\n",
              "    </tr>\n",
              "    <tr>\n",
              "      <th>2</th>\n",
              "      <td>SibSp</td>\n",
              "      <td>2.782164</td>\n",
              "    </tr>\n",
              "    <tr>\n",
              "      <th>1</th>\n",
              "      <td>Age</td>\n",
              "      <td>0.561675</td>\n",
              "    </tr>\n",
              "    <tr>\n",
              "      <th>6</th>\n",
              "      <td>Embarked_Q</td>\n",
              "      <td>0.340991</td>\n",
              "    </tr>\n",
              "  </tbody>\n",
              "</table>\n",
              "</div>"
            ],
            "text/plain": [
              "       column  chi2_stats\n",
              "5    Sex_male   85.323417\n",
              "0      Pclass   21.542741\n",
              "3       Parch   21.073031\n",
              "4        Fare   18.206226\n",
              "7  Embarked_S    4.759596\n",
              "2       SibSp    2.782164\n",
              "1         Age    0.561675\n",
              "6  Embarked_Q    0.340991"
            ]
          },
          "metadata": {
            "tags": []
          },
          "execution_count": 149
        }
      ]
    },
    {
      "cell_type": "code",
      "metadata": {
        "colab": {
          "base_uri": "https://localhost:8080/",
          "height": 335
        },
        "id": "F66KCoIHT2Q1",
        "outputId": "37c85585-53cb-423b-ef6d-3b038c322a92"
      },
      "source": [
        "plt.xticks(rotation='vertical')\n",
        "plt.plot(chi2_stats_table['column'], chi2_stats_table['chi2_stats'])"
      ],
      "execution_count": null,
      "outputs": [
        {
          "output_type": "execute_result",
          "data": {
            "text/plain": [
              "[<matplotlib.lines.Line2D at 0x7f20fd17fbd0>]"
            ]
          },
          "metadata": {
            "tags": []
          },
          "execution_count": 150
        },
        {
          "output_type": "display_data",
          "data": {
            "image/png": "[encoded data removed]",
            "text/plain": [
              "<Figure size 432x288 with 1 Axes>"
            ]
          },
          "metadata": {
            "tags": [],
            "needs_background": "light"
          }
        }
      ]
    },
    {
      "cell_type": "code",
      "metadata": {
        "colab": {
          "base_uri": "https://localhost:8080/",
          "height": 279
        },
        "id": "4hxfinF9T2Q3",
        "outputId": "f36c61cc-e689-4b78-8adc-e4674a5b1e76"
      },
      "source": [
        "def plot(model, stats_table):\n",
        "    titanic_data_sorted = titanic_data[stats_table['column']]\n",
        "\n",
        "    X = titanic_data_sorted[titanic_data_sorted.columns[1:]]\n",
        "    y = titanic_data.Survived\n",
        "\n",
        "    train_X, val_X, train_y, val_y = train_test_split(X, y, shuffle=True)\n",
        "    model.fit(train_X, train_y)\n",
        "\n",
        "    accuracy = {}\n",
        "    for i in range(titanic_data_sorted.shape[1]):\n",
        "        model.fit(X, y)\n",
        "        accuracy[i] = accuracy_score(train_y, model.predict(train_X[X.columns])) \n",
        "        X = X.iloc[:,:len(X.columns)-1]\n",
        "        \n",
        "        if len(X.columns)-1 < 1:\n",
        "            break\n",
        "\n",
        "    plt.xlabel(\"num of deleted features\")\n",
        "    plt.ylabel(\"accuracy\")\n",
        "    plt.plot(list(accuracy.keys()), list(accuracy.values()))\n",
        "    plt.show()\n",
        "\n",
        "model = KNeighborsClassifier()\n",
        "plot(model, chi2_stats_table)"
      ],
      "execution_count": null,
      "outputs": [
        {
          "output_type": "display_data",
          "data": {
            "image/png": "[encoded data removed]",
            "text/plain": [
              "<Figure size 432x288 with 1 Axes>"
            ]
          },
          "metadata": {
            "tags": [],
            "needs_background": "light"
          }
        }
      ]
    },
    {
      "cell_type": "code",
      "metadata": {
        "colab": {
          "base_uri": "https://localhost:8080/"
        },
        "id": "8vbdAGTFT2Q4",
        "outputId": "4beb416b-94b6-432e-f032-62a7d60c08ca"
      },
      "source": [
        "from sklearn.ensemble import RandomForestClassifier\n",
        "from sklearn.model_selection import GridSearchCV\n",
        "\n",
        "X = titanic_data[titanic_data.columns[1:]]\n",
        "y = titanic_data.Survived\n",
        "\n",
        "random_forest_model = RandomForestClassifier()\n",
        "grid_search = GridSearchCV(random_forest_model, param_grid={'max_depth': range(1, 20)})\n",
        "grid_search.fit(X, y)\n",
        "max_depth = grid_search.best_params_['max_depth']\n",
        "max_depth"
      ],
      "execution_count": null,
      "outputs": [
        {
          "output_type": "execute_result",
          "data": {
            "text/plain": [
              "11"
            ]
          },
          "metadata": {
            "tags": []
          },
          "execution_count": 161
        }
      ]
    },
    {
      "cell_type": "code",
      "metadata": {
        "colab": {
          "base_uri": "https://localhost:8080/",
          "height": 294
        },
        "id": "U40Nm2lNT2Q5",
        "outputId": "05ad25df-b01f-41b5-8c0a-502679c38239"
      },
      "source": [
        "random_forest_model = RandomForestClassifier(max_depth=max_depth)\n",
        "random_forest_model.fit(X, y)\n",
        "\n",
        "random_forest_stats_table = pd.DataFrame({ 'column': titanic_data.columns[1:], 'random_forest_stats': random_forest_model.feature_importances_ }) \\\n",
        "    .sort_values(by='random_forest_stats', ascending=False)\n",
        "random_forest_stats_table"
      ],
      "execution_count": null,
      "outputs": [
        {
          "output_type": "execute_result",
          "data": {
            "text/html": [
              "<div>\n",
              "<style scoped>\n",
              "    .dataframe tbody tr th:only-of-type {\n",
              "        vertical-align: middle;\n",
              "    }\n",
              "\n",
              "    .dataframe tbody tr th {\n",
              "        vertical-align: top;\n",
              "    }\n",
              "\n",
              "    .dataframe thead th {\n",
              "        text-align: right;\n",
              "    }\n",
              "</style>\n",
              "<table border=\"1\" class=\"dataframe\">\n",
              "  <thead>\n",
              "    <tr style=\"text-align: right;\">\n",
              "      <th></th>\n",
              "      <th>column</th>\n",
              "      <th>random_forest_stats</th>\n",
              "    </tr>\n",
              "  </thead>\n",
              "  <tbody>\n",
              "    <tr>\n",
              "      <th>5</th>\n",
              "      <td>Sex_male</td>\n",
              "      <td>0.301073</td>\n",
              "    </tr>\n",
              "    <tr>\n",
              "      <th>4</th>\n",
              "      <td>Fare</td>\n",
              "      <td>0.261684</td>\n",
              "    </tr>\n",
              "    <tr>\n",
              "      <th>1</th>\n",
              "      <td>Age</td>\n",
              "      <td>0.233420</td>\n",
              "    </tr>\n",
              "    <tr>\n",
              "      <th>0</th>\n",
              "      <td>Pclass</td>\n",
              "      <td>0.084502</td>\n",
              "    </tr>\n",
              "    <tr>\n",
              "      <th>2</th>\n",
              "      <td>SibSp</td>\n",
              "      <td>0.044458</td>\n",
              "    </tr>\n",
              "    <tr>\n",
              "      <th>3</th>\n",
              "      <td>Parch</td>\n",
              "      <td>0.040206</td>\n",
              "    </tr>\n",
              "    <tr>\n",
              "      <th>7</th>\n",
              "      <td>Embarked_S</td>\n",
              "      <td>0.022507</td>\n",
              "    </tr>\n",
              "    <tr>\n",
              "      <th>6</th>\n",
              "      <td>Embarked_Q</td>\n",
              "      <td>0.012149</td>\n",
              "    </tr>\n",
              "  </tbody>\n",
              "</table>\n",
              "</div>"
            ],
            "text/plain": [
              "       column  random_forest_stats\n",
              "5    Sex_male             0.301073\n",
              "4        Fare             0.261684\n",
              "1         Age             0.233420\n",
              "0      Pclass             0.084502\n",
              "2       SibSp             0.044458\n",
              "3       Parch             0.040206\n",
              "7  Embarked_S             0.022507\n",
              "6  Embarked_Q             0.012149"
            ]
          },
          "metadata": {
            "tags": []
          },
          "execution_count": 162
        }
      ]
    },
    {
      "cell_type": "code",
      "metadata": {
        "colab": {
          "base_uri": "https://localhost:8080/",
          "height": 335
        },
        "id": "287wLrSET2Q5",
        "outputId": "2b49ed98-cfdb-4adc-eebb-dd0239fa0b10"
      },
      "source": [
        "plt.xticks(rotation='vertical')\n",
        "plt.plot(random_forest_stats_table['column'], random_forest_stats_table['random_forest_stats'])"
      ],
      "execution_count": null,
      "outputs": [
        {
          "output_type": "execute_result",
          "data": {
            "text/plain": [
              "[<matplotlib.lines.Line2D at 0x7f20fce8b210>]"
            ]
          },
          "metadata": {
            "tags": []
          },
          "execution_count": 163
        },
        {
          "output_type": "display_data",
          "data": {
            "image/png": "[encoded data removed]",
            "text/plain": [
              "<Figure size 432x288 with 1 Axes>"
            ]
          },
          "metadata": {
            "tags": [],
            "needs_background": "light"
          }
        }
      ]
    },
    {
      "cell_type": "code",
      "metadata": {
        "colab": {
          "base_uri": "https://localhost:8080/",
          "height": 281
        },
        "id": "JWUJWIpi4IOa",
        "outputId": "a0cf4678-7854-4636-a931-6a1415cdce6d"
      },
      "source": [
        "plot(random_forest_model, random_forest_stats_table)"
      ],
      "execution_count": null,
      "outputs": [
        {
          "output_type": "display_data",
          "data": {
            "image/png": "[encoded data removed]",
            "text/plain": [
              "<Figure size 432x288 with 1 Axes>"
            ]
          },
          "metadata": {
            "tags": [],
            "needs_background": "light"
          }
        }
      ]
    },
    {
      "cell_type": "code",
      "metadata": {
        "colab": {
          "base_uri": "https://localhost:8080/"
        },
        "id": "o3dB0fLM60vA",
        "outputId": "f80bb693-3b18-49d7-c1aa-023fa22c40ae"
      },
      "source": [
        "X = titanic_data[titanic_data.columns[1:]]\n",
        "y = titanic_data.Survived\n",
        "\n",
        "train_X, val_X, train_y, val_y = train_test_split(X, y, shuffle=True)\n",
        "random_forest_model.fit(train_X, train_y)\n",
        "\n",
        "train_predictions = random_forest_model.predict(train_X)\n",
        "print('before: ' + str(accuracy_score(train_y, train_predictions)))\n",
        "\n",
        "filtered_titanic_data = titanic_data.drop(columns='Embarked_Q')\n",
        "X = filtered_titanic_data[filtered_titanic_data.columns[1:]]\n",
        "train_X, val_X, train_y, val_y = train_test_split(X, y, shuffle=True)\n",
        "random_forest_model.fit(train_X, train_y)\n",
        "\n",
        "train_predictions = random_forest_model.predict(train_X)\n",
        "print('after: ' + str(accuracy_score(train_y, train_predictions)))"
      ],
      "execution_count": null,
      "outputs": [
        {
          "output_type": "stream",
          "text": [
            "before: 0.9477977161500816\n",
            "after: 0.9526916802610114\n"
          ],
          "name": "stdout"
        }
      ]
    }
  ]
}